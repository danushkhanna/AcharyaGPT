{
  "nbformat": 4,
  "nbformat_minor": 0,
  "metadata": {
    "colab": {
      "provenance": []
    },
    "kernelspec": {
      "name": "python3",
      "display_name": "Python 3"
    },
    "language_info": {
      "name": "python"
    }
  },
  "cells": [
    {
      "cell_type": "code",
      "execution_count": null,
      "metadata": {
        "colab": {
          "base_uri": "https://localhost:8080/"
        },
        "id": "Pn9E55I5je1f",
        "outputId": "ac67cf81-ba4b-41e7-91e5-b95f57a31c0d"
      },
      "outputs": [
        {
          "output_type": "stream",
          "name": "stdout",
          "text": [
            "\u001b[2K     \u001b[90m━━━━━━━━━━━━━━━━━━━━━━━━━━━━━━━━━━━━━━━━\u001b[0m \u001b[32m794.4/794.4 kB\u001b[0m \u001b[31m6.3 MB/s\u001b[0m eta \u001b[36m0:00:00\u001b[0m\n",
            "\u001b[2K     \u001b[90m━━━━━━━━━━━━━━━━━━━━━━━━━━━━━━━━━━━━━━━━\u001b[0m \u001b[32m225.4/225.4 kB\u001b[0m \u001b[31m14.9 MB/s\u001b[0m eta \u001b[36m0:00:00\u001b[0m\n",
            "\u001b[2K     \u001b[90m━━━━━━━━━━━━━━━━━━━━━━━━━━━━━━━━━━━━━━━━\u001b[0m \u001b[32m2.0/2.0 MB\u001b[0m \u001b[31m14.9 MB/s\u001b[0m eta \u001b[36m0:00:00\u001b[0m\n",
            "\u001b[2K     \u001b[90m━━━━━━━━━━━━━━━━━━━━━━━━━━━━━━━━━━━━━━━━\u001b[0m \u001b[32m508.6/508.6 kB\u001b[0m \u001b[31m14.2 MB/s\u001b[0m eta \u001b[36m0:00:00\u001b[0m\n",
            "\u001b[2K     \u001b[90m━━━━━━━━━━━━━━━━━━━━━━━━━━━━━━━━━━━━━━━━\u001b[0m \u001b[32m1.5/1.5 MB\u001b[0m \u001b[31m19.8 MB/s\u001b[0m eta \u001b[36m0:00:00\u001b[0m\n",
            "\u001b[2K     \u001b[90m━━━━━━━━━━━━━━━━━━━━━━━━━━━━━━━━━━━━━━━━\u001b[0m \u001b[32m192.4/192.4 kB\u001b[0m \u001b[31m16.7 MB/s\u001b[0m eta \u001b[36m0:00:00\u001b[0m\n",
            "\u001b[2K     \u001b[90m━━━━━━━━━━━━━━━━━━━━━━━━━━━━━━━━━━━━━━━━\u001b[0m \u001b[32m46.7/46.7 kB\u001b[0m \u001b[31m5.1 MB/s\u001b[0m eta \u001b[36m0:00:00\u001b[0m\n",
            "\u001b[2K     \u001b[90m━━━━━━━━━━━━━━━━━━━━━━━━━━━━━━━━━━━━━━━━\u001b[0m \u001b[32m75.9/75.9 kB\u001b[0m \u001b[31m7.8 MB/s\u001b[0m eta \u001b[36m0:00:00\u001b[0m\n",
            "\u001b[2K     \u001b[90m━━━━━━━━━━━━━━━━━━━━━━━━━━━━━━━━━━━━━━━━\u001b[0m \u001b[32m2.4/2.4 MB\u001b[0m \u001b[31m24.4 MB/s\u001b[0m eta \u001b[36m0:00:00\u001b[0m\n",
            "\u001b[2K     \u001b[90m━━━━━━━━━━━━━━━━━━━━━━━━━━━━━━━━━━━━━━━━\u001b[0m \u001b[32m92.0/92.0 kB\u001b[0m \u001b[31m7.4 MB/s\u001b[0m eta \u001b[36m0:00:00\u001b[0m\n",
            "\u001b[2K     \u001b[90m━━━━━━━━━━━━━━━━━━━━━━━━━━━━━━━━━━━━━━━━\u001b[0m \u001b[32m60.3/60.3 kB\u001b[0m \u001b[31m6.3 MB/s\u001b[0m eta \u001b[36m0:00:00\u001b[0m\n",
            "\u001b[2K     \u001b[90m━━━━━━━━━━━━━━━━━━━━━━━━━━━━━━━━━━━━━━━━\u001b[0m \u001b[32m5.4/5.4 MB\u001b[0m \u001b[31m37.1 MB/s\u001b[0m eta \u001b[36m0:00:00\u001b[0m\n",
            "\u001b[2K     \u001b[90m━━━━━━━━━━━━━━━━━━━━━━━━━━━━━━━━━━━━━━━━\u001b[0m \u001b[32m6.4/6.4 MB\u001b[0m \u001b[31m49.1 MB/s\u001b[0m eta \u001b[36m0:00:00\u001b[0m\n",
            "\u001b[2K     \u001b[90m━━━━━━━━━━━━━━━━━━━━━━━━━━━━━━━━━━━━━━━━\u001b[0m \u001b[32m57.9/57.9 kB\u001b[0m \u001b[31m6.1 MB/s\u001b[0m eta \u001b[36m0:00:00\u001b[0m\n",
            "\u001b[2K     \u001b[90m━━━━━━━━━━━━━━━━━━━━━━━━━━━━━━━━━━━━━━━━\u001b[0m \u001b[32m105.6/105.6 kB\u001b[0m \u001b[31m10.7 MB/s\u001b[0m eta \u001b[36m0:00:00\u001b[0m\n",
            "\u001b[2K     \u001b[90m━━━━━━━━━━━━━━━━━━━━━━━━━━━━━━━━━━━━━━━━\u001b[0m \u001b[32m67.3/67.3 kB\u001b[0m \u001b[31m8.0 MB/s\u001b[0m eta \u001b[36m0:00:00\u001b[0m\n",
            "\u001b[?25h  Installing build dependencies ... \u001b[?25l\u001b[?25hdone\n",
            "  Getting requirements to build wheel ... \u001b[?25l\u001b[?25hdone\n",
            "  Preparing metadata (pyproject.toml) ... \u001b[?25l\u001b[?25hdone\n",
            "\u001b[2K     \u001b[90m━━━━━━━━━━━━━━━━━━━━━━━━━━━━━━━━━━━━━━━━\u001b[0m \u001b[32m698.9/698.9 kB\u001b[0m \u001b[31m40.2 MB/s\u001b[0m eta \u001b[36m0:00:00\u001b[0m\n",
            "\u001b[2K     \u001b[90m━━━━━━━━━━━━━━━━━━━━━━━━━━━━━━━━━━━━━━━━\u001b[0m \u001b[32m1.6/1.6 MB\u001b[0m \u001b[31m43.2 MB/s\u001b[0m eta \u001b[36m0:00:00\u001b[0m\n",
            "\u001b[2K     \u001b[90m━━━━━━━━━━━━━━━━━━━━━━━━━━━━━━━━━━━━━━━━\u001b[0m \u001b[32m72.6/72.6 kB\u001b[0m \u001b[31m6.7 MB/s\u001b[0m eta \u001b[36m0:00:00\u001b[0m\n",
            "\u001b[2K     \u001b[90m━━━━━━━━━━━━━━━━━━━━━━━━━━━━━━━━━━━━━━━━\u001b[0m \u001b[32m49.4/49.4 kB\u001b[0m \u001b[31m5.2 MB/s\u001b[0m eta \u001b[36m0:00:00\u001b[0m\n",
            "\u001b[2K     \u001b[90m━━━━━━━━━━━━━━━━━━━━━━━━━━━━━━━━━━━━━━━━\u001b[0m \u001b[32m70.0/70.0 kB\u001b[0m \u001b[31m6.7 MB/s\u001b[0m eta \u001b[36m0:00:00\u001b[0m\n",
            "\u001b[2K     \u001b[90m━━━━━━━━━━━━━━━━━━━━━━━━━━━━━━━━━━━━━━━━\u001b[0m \u001b[32m76.9/76.9 kB\u001b[0m \u001b[31m7.6 MB/s\u001b[0m eta \u001b[36m0:00:00\u001b[0m\n",
            "\u001b[2K     \u001b[90m━━━━━━━━━━━━━━━━━━━━━━━━━━━━━━━━━━━━━━━━\u001b[0m \u001b[32m58.3/58.3 kB\u001b[0m \u001b[31m5.8 MB/s\u001b[0m eta \u001b[36m0:00:00\u001b[0m\n",
            "\u001b[2K     \u001b[90m━━━━━━━━━━━━━━━━━━━━━━━━━━━━━━━━━━━━━━━━\u001b[0m \u001b[32m143.8/143.8 kB\u001b[0m \u001b[31m15.1 MB/s\u001b[0m eta \u001b[36m0:00:00\u001b[0m\n",
            "\u001b[2K     \u001b[90m━━━━━━━━━━━━━━━━━━━━━━━━━━━━━━━━━━━━━━━━\u001b[0m \u001b[32m46.0/46.0 kB\u001b[0m \u001b[31m4.8 MB/s\u001b[0m eta \u001b[36m0:00:00\u001b[0m\n",
            "\u001b[2K     \u001b[90m━━━━━━━━━━━━━━━━━━━━━━━━━━━━━━━━━━━━━━━━\u001b[0m \u001b[32m50.8/50.8 kB\u001b[0m \u001b[31m5.8 MB/s\u001b[0m eta \u001b[36m0:00:00\u001b[0m\n",
            "\u001b[2K     \u001b[90m━━━━━━━━━━━━━━━━━━━━━━━━━━━━━━━━━━━━━━━━\u001b[0m \u001b[32m341.4/341.4 kB\u001b[0m \u001b[31m29.7 MB/s\u001b[0m eta \u001b[36m0:00:00\u001b[0m\n",
            "\u001b[2K     \u001b[90m━━━━━━━━━━━━━━━━━━━━━━━━━━━━━━━━━━━━━━━━\u001b[0m \u001b[32m3.4/3.4 MB\u001b[0m \u001b[31m65.4 MB/s\u001b[0m eta \u001b[36m0:00:00\u001b[0m\n",
            "\u001b[2K     \u001b[90m━━━━━━━━━━━━━━━━━━━━━━━━━━━━━━━━━━━━━━━━\u001b[0m \u001b[32m1.3/1.3 MB\u001b[0m \u001b[31m70.5 MB/s\u001b[0m eta \u001b[36m0:00:00\u001b[0m\n",
            "\u001b[2K     \u001b[90m━━━━━━━━━━━━━━━━━━━━━━━━━━━━━━━━━━━━━━━━\u001b[0m \u001b[32m130.2/130.2 kB\u001b[0m \u001b[31m14.4 MB/s\u001b[0m eta \u001b[36m0:00:00\u001b[0m\n",
            "\u001b[2K     \u001b[90m━━━━━━━━━━━━━━━━━━━━━━━━━━━━━━━━━━━━━━━━\u001b[0m \u001b[32m86.8/86.8 kB\u001b[0m \u001b[31m10.0 MB/s\u001b[0m eta \u001b[36m0:00:00\u001b[0m\n",
            "\u001b[?25h  Building wheel for pypika (pyproject.toml) ... \u001b[?25l\u001b[?25hdone\n",
            "\u001b[31mERROR: pip's dependency resolver does not currently take into account all the packages that are installed. This behaviour is the source of the following dependency conflicts.\n",
            "lida 0.0.10 requires kaleido, which is not installed.\n",
            "lida 0.0.10 requires python-multipart, which is not installed.\n",
            "llmx 0.0.15a0 requires cohere, which is not installed.\n",
            "tensorflow-probability 0.22.0 requires typing-extensions<4.6.0, but you have typing-extensions 4.9.0 which is incompatible.\u001b[0m\u001b[31m\n",
            "\u001b[0m"
          ]
        }
      ],
      "source": [
        "!pip -q install langchain openai tiktoken chromadb"
      ]
    },
    {
      "cell_type": "code",
      "source": [
        "!pip install langchain"
      ],
      "metadata": {
        "colab": {
          "base_uri": "https://localhost:8080/"
        },
        "id": "MfurNG34kJJR",
        "outputId": "6ff7859e-9034-40f2-e89d-1e59ed6ce01d"
      },
      "execution_count": null,
      "outputs": [
        {
          "output_type": "stream",
          "name": "stdout",
          "text": [
            "Requirement already satisfied: langchain in /usr/local/lib/python3.10/dist-packages (0.0.352)\n",
            "Requirement already satisfied: PyYAML>=5.3 in /usr/local/lib/python3.10/dist-packages (from langchain) (6.0.1)\n",
            "Requirement already satisfied: SQLAlchemy<3,>=1.4 in /usr/local/lib/python3.10/dist-packages (from langchain) (2.0.23)\n",
            "Requirement already satisfied: aiohttp<4.0.0,>=3.8.3 in /usr/local/lib/python3.10/dist-packages (from langchain) (3.9.1)\n",
            "Requirement already satisfied: async-timeout<5.0.0,>=4.0.0 in /usr/local/lib/python3.10/dist-packages (from langchain) (4.0.3)\n",
            "Requirement already satisfied: dataclasses-json<0.7,>=0.5.7 in /usr/local/lib/python3.10/dist-packages (from langchain) (0.6.3)\n",
            "Requirement already satisfied: jsonpatch<2.0,>=1.33 in /usr/local/lib/python3.10/dist-packages (from langchain) (1.33)\n",
            "Requirement already satisfied: langchain-community<0.1,>=0.0.2 in /usr/local/lib/python3.10/dist-packages (from langchain) (0.0.6)\n",
            "Requirement already satisfied: langchain-core<0.2,>=0.1 in /usr/local/lib/python3.10/dist-packages (from langchain) (0.1.3)\n",
            "Requirement already satisfied: langsmith<0.1.0,>=0.0.70 in /usr/local/lib/python3.10/dist-packages (from langchain) (0.0.75)\n",
            "Requirement already satisfied: numpy<2,>=1 in /usr/local/lib/python3.10/dist-packages (from langchain) (1.23.5)\n",
            "Requirement already satisfied: pydantic<3,>=1 in /usr/local/lib/python3.10/dist-packages (from langchain) (1.10.13)\n",
            "Requirement already satisfied: requests<3,>=2 in /usr/local/lib/python3.10/dist-packages (from langchain) (2.31.0)\n",
            "Requirement already satisfied: tenacity<9.0.0,>=8.1.0 in /usr/local/lib/python3.10/dist-packages (from langchain) (8.2.3)\n",
            "Requirement already satisfied: attrs>=17.3.0 in /usr/local/lib/python3.10/dist-packages (from aiohttp<4.0.0,>=3.8.3->langchain) (23.1.0)\n",
            "Requirement already satisfied: multidict<7.0,>=4.5 in /usr/local/lib/python3.10/dist-packages (from aiohttp<4.0.0,>=3.8.3->langchain) (6.0.4)\n",
            "Requirement already satisfied: yarl<2.0,>=1.0 in /usr/local/lib/python3.10/dist-packages (from aiohttp<4.0.0,>=3.8.3->langchain) (1.9.4)\n",
            "Requirement already satisfied: frozenlist>=1.1.1 in /usr/local/lib/python3.10/dist-packages (from aiohttp<4.0.0,>=3.8.3->langchain) (1.4.1)\n",
            "Requirement already satisfied: aiosignal>=1.1.2 in /usr/local/lib/python3.10/dist-packages (from aiohttp<4.0.0,>=3.8.3->langchain) (1.3.1)\n",
            "Requirement already satisfied: marshmallow<4.0.0,>=3.18.0 in /usr/local/lib/python3.10/dist-packages (from dataclasses-json<0.7,>=0.5.7->langchain) (3.20.1)\n",
            "Requirement already satisfied: typing-inspect<1,>=0.4.0 in /usr/local/lib/python3.10/dist-packages (from dataclasses-json<0.7,>=0.5.7->langchain) (0.9.0)\n",
            "Requirement already satisfied: jsonpointer>=1.9 in /usr/local/lib/python3.10/dist-packages (from jsonpatch<2.0,>=1.33->langchain) (2.4)\n",
            "Requirement already satisfied: anyio<5,>=3 in /usr/local/lib/python3.10/dist-packages (from langchain-core<0.2,>=0.1->langchain) (3.7.1)\n",
            "Requirement already satisfied: packaging<24.0,>=23.2 in /usr/local/lib/python3.10/dist-packages (from langchain-core<0.2,>=0.1->langchain) (23.2)\n",
            "Requirement already satisfied: typing-extensions>=4.2.0 in /usr/local/lib/python3.10/dist-packages (from pydantic<3,>=1->langchain) (4.9.0)\n",
            "Requirement already satisfied: charset-normalizer<4,>=2 in /usr/local/lib/python3.10/dist-packages (from requests<3,>=2->langchain) (3.3.2)\n",
            "Requirement already satisfied: idna<4,>=2.5 in /usr/local/lib/python3.10/dist-packages (from requests<3,>=2->langchain) (3.6)\n",
            "Requirement already satisfied: urllib3<3,>=1.21.1 in /usr/local/lib/python3.10/dist-packages (from requests<3,>=2->langchain) (1.26.18)\n",
            "Requirement already satisfied: certifi>=2017.4.17 in /usr/local/lib/python3.10/dist-packages (from requests<3,>=2->langchain) (2023.11.17)\n",
            "Requirement already satisfied: greenlet!=0.4.17 in /usr/local/lib/python3.10/dist-packages (from SQLAlchemy<3,>=1.4->langchain) (3.0.2)\n",
            "Requirement already satisfied: sniffio>=1.1 in /usr/local/lib/python3.10/dist-packages (from anyio<5,>=3->langchain-core<0.2,>=0.1->langchain) (1.3.0)\n",
            "Requirement already satisfied: exceptiongroup in /usr/local/lib/python3.10/dist-packages (from anyio<5,>=3->langchain-core<0.2,>=0.1->langchain) (1.2.0)\n",
            "Requirement already satisfied: mypy-extensions>=0.3.0 in /usr/local/lib/python3.10/dist-packages (from typing-inspect<1,>=0.4.0->dataclasses-json<0.7,>=0.5.7->langchain) (1.0.0)\n"
          ]
        }
      ]
    },
    {
      "cell_type": "code",
      "source": [
        "import os\n",
        "from getpass import getpass\n",
        "os.environ[\"OPENAI_API_KEY\"] = getpass()"
      ],
      "metadata": {
        "colab": {
          "base_uri": "https://localhost:8080/"
        },
        "id": "SX5e-eiHkSRw",
        "outputId": "a0703572-509e-4d74-f90a-521ed0287471"
      },
      "execution_count": null,
      "outputs": [
        {
          "name": "stdout",
          "output_type": "stream",
          "text": [
            "··········\n"
          ]
        }
      ]
    },
    {
      "cell_type": "code",
      "source": [
        "!pip install pypdf"
      ],
      "metadata": {
        "colab": {
          "base_uri": "https://localhost:8080/"
        },
        "id": "spxaFEemmI_V",
        "outputId": "047ae6df-b6cf-4af0-a41f-88bf47f079ee"
      },
      "execution_count": null,
      "outputs": [
        {
          "output_type": "stream",
          "name": "stdout",
          "text": [
            "Collecting pypdf\n",
            "  Downloading pypdf-3.17.4-py3-none-any.whl (278 kB)\n",
            "\u001b[?25l     \u001b[90m━━━━━━━━━━━━━━━━━━━━━━━━━━━━━━━━━━━━━━━━\u001b[0m \u001b[32m0.0/278.2 kB\u001b[0m \u001b[31m?\u001b[0m eta \u001b[36m-:--:--\u001b[0m\r\u001b[2K     \u001b[91m━━━━━━━━━━━━━\u001b[0m\u001b[90m╺\u001b[0m\u001b[90m━━━━━━━━━━━━━━━━━━━━━━━━━━\u001b[0m \u001b[32m92.2/278.2 kB\u001b[0m \u001b[31m2.6 MB/s\u001b[0m eta \u001b[36m0:00:01\u001b[0m\r\u001b[2K     \u001b[90m━━━━━━━━━━━━━━━━━━━━━━━━━━━━━━━━━━━━━━━━\u001b[0m \u001b[32m278.2/278.2 kB\u001b[0m \u001b[31m4.3 MB/s\u001b[0m eta \u001b[36m0:00:00\u001b[0m\n",
            "\u001b[?25hInstalling collected packages: pypdf\n",
            "Successfully installed pypdf-3.17.4\n"
          ]
        }
      ]
    },
    {
      "cell_type": "code",
      "source": [
        "from langchain.vectorstores import Chroma\n",
        "from langchain.embeddings import OpenAIEmbeddings\n",
        "from langchain.text_splitter import RecursiveCharacterTextSplitter\n",
        "from langchain.chains import RetrievalQA\n",
        "from langchain.document_loaders import TextLoader\n",
        "from langchain.document_loaders import PyPDFDirectoryLoader"
      ],
      "metadata": {
        "id": "Ng2qzjFvks97"
      },
      "execution_count": null,
      "outputs": []
    },
    {
      "cell_type": "code",
      "source": [
        "loader = PyPDFDirectoryLoader(\"/content/RAKSHA\")\n",
        "documents = loader.load()"
      ],
      "metadata": {
        "id": "VuL-FuPplDPw"
      },
      "execution_count": null,
      "outputs": []
    },
    {
      "cell_type": "code",
      "source": [
        "print(documents)"
      ],
      "metadata": {
        "colab": {
          "base_uri": "https://localhost:8080/"
        },
        "id": "_QC_lt8fl-q0",
        "outputId": "030f5ccd-ddde-4854-9ab5-06da4f81351e"
      },
      "execution_count": null,
      "outputs": [
        {
          "output_type": "stream",
          "name": "stdout",
          "text": [
            "[Document(page_content=\"Q.\\nI\\nhave\\nscaly\\npatchy\\nraised\\nlesions\\nover\\nb/l\\nelbow\\nand\\nb/l\\nknee\\njoints\\nwith\\ndryness\\nand\\nitching\\n.\\nWhat\\nis\\nmy\\nailment?\\nWhat\\nis\\nthe\\nsolution?\\nA.\\nThe\\nsymptoms\\nyou've\\ndescribed,\\nsuch\\nas\\nscaly\\npatchy\\nraised\\nlesions\\nover\\nb/l\\nelbow\\nand\\nb/l\\nknee\\njoint\\nwith\\ndryness\\nand\\nitching,\\ncan\\nbe\\nanalyzed\\nthrough\\nthe\\nlens\\nof\\nAyurveda\\nto\\npredict\\na\\npotential\\nproblem\\nor\\ndisease.\\nAyurveda\\nidentifies\\nimbalances\\nin\\nthe\\nVata,\\nPitta,\\nand\\nKapha\\ndoshas\\nas\\nkey\\nfactors\\nin\\nvarious\\nhealth\\nissues.\\nVata\\nDosha\\n:\\nScaly\\nlesions\\n:\\nThis\\nis\\noften\\nassociated\\nwith\\naggravated\\nVata\\ndosha.\\nWhen\\nVata\\ndosha\\nis\\nimbalanced,\\nit\\ncan\\nlead\\nto\\nscaly\\npatchy\\nraised\\nlesions\\n.\\nWhen\\nPitta\\nis\\naggravated,\\nit\\ncan\\ncause\\nraised\\nlesions,\\nredness\\nof\\nlesions.\\nKapha\\nDosha\\n:\\nItching\\n:\\nit\\nis\\nthe\\nclassic\\nkapha\\ndosha\\nsymptom\\ni,e\\nPratyatma\\nlakshana\\nof\\nkapha\\n.\\nBased\\non\\nthese\\nsymptoms\\nand\\ntheir\\nassociation\\nwith\\ndosha\\nimbalances,\\nyour\\ncondition\\ncould\\nbe\\nrelated\\nto\\nan\\nEka\\nkusta\\nor\\npsoriasis\\n,\\nwhich\\npredominantly\\ninvolves\\nimbalances\\nof\\nmainly\\nVata\\nand\\nKapha\\ndoshas\\nin\\nassociation\\nwith\\npitta\\ndosha.\\nQ:\\nis\\nit\\nEka\\nkustabonly\\nbecause\\nof\\nVata\\ndosha\\nand\\nKapha\\nDosha.\\nA:\\nno\\nin\\nayurveda\\nit\\nis\\nmentioned\\nany\\ndisease\\nmentioned\\nin\\nAyurveda\\nit\\ninvolves\\nall\\nthe\\nthree\\ndoshas\\nbut\\nbased\\non\\nthe\\npercentage\\nof\\ninvolvement\\nit\\nhas\\nbeen\\nmentioned\\nthe\\ninvolvement\\nof\\ndosha.\\nIt\\nmeans\\nEka\\nkusta\\nhave\\nall\\nthe\\nthree\\ndosha\\nbut\\nbased\\non\\nmajority\\nit\\nhv\\nvata\\nand\\nkapha\\ndosha.\\nEka\\nkusta\\nor\\npsoriasis:\\nIt\\nis\\na\\nnon-\\ninfectious\\nchronic\\nrelapsing\\ninflammatory\\nskin\\ndisease\\ncharacterized\\nby\\nscaly\\nerythematous\\npatches.\\nThe\\neruptions\\nis\\nusually\\nsymmetrical\\nand\\nmost\\ncommonly\\naffects\\nextensor\\nsurfaces\\nof\\nelbow,\\nknee,\\nscalp,\\nnails.\\nQ:\\nWhich\\nare\\nthe\\ndoshas\\ninvolved\\nand\\nwhich\\nsystem\\nin\\ninvolved\\nin\\nEka\\nkusta.\\nA:\\nThe\\nprominent\\nDosha\\ninvolved\\nin\\nEka\\nkusta\\nis\\nVata\\nand\\nKapha\\ndosha\\nin\\nassociation\\nwith\\npitta\\ndosha\\nalso.\\nThe\\nsystem\\nor\\nthe\\nsrothas\\ninvolved\\nin\\nEka\\nkusta\\nis\\nRasavaha\\nand\\nraktavaha\\nsrothas.\\nQ:\\nwhat\\nis\\nsolution\\nfor\\nthe\\ndisease\\nEka\\nkusta\\nin\\nAyurveda\\nA:\\nprinciples\\nof\\nAyurveda\\nline\\nof\\ntreatment\\ninvolves\\nShodana\\ntherapy\\nmainly\\ncalled\\nas\\npanchakarma\\ntreatment\\nand\\nshamana\\nline\\nof\\ntreatment\\nor\\npalliative\\nof\\nmaintenance\\ntreatment\\nand\\ndiet\\nregime\\nincluding\\ndos\\nand\\ndonts.\", metadata={'source': '/content/RAKSHA/RAKSHA dataset V1.pdf', 'page': 0}), Document(page_content=\"Q:\\nCan\\nyou\\nelaborate\\nthe\\npanchakarma\\nand\\npalliative\\ntreatment\\ninvolved\\nin\\nEka\\nkusta\\n.\\nA:\\nthe\\nimportant\\npanchakarma\\ndone\\nin\\nmost\\nof\\nthe\\nEka\\nkusta\\npatients\\nare\\nverechana\\n(\\npurgative)\\ntreatment\\nwith\\nvarious\\nmedications.\\nThe\\npalliative\\nor\\nthe\\nshamana\\ntreatment\\nis\\ndone\\nbefore\\npanchakarma\\nas\\npreprocedure\\nor\\nto\\nprepare\\npatient\\nfor\\npanchakarma.\\nThose\\nare\\nAmapachana:\\nlanghana\\n(\\nfasting),\\ndeepana\\n(\\nstimulation\\nof\\nAgni\\ni.e\\ndigestive\\nfire)\\nas\\ninternal\\nmedication\\nand\\nSwedana\\n(\\ndry\\nand\\nhot\\napplication)\\nas\\nexternal\\napplication.\\nSnehanapana\\n:\\nas\\nit\\ncarried\\nout\\nto\\nfacilitate\\nthe\\nmobilization\\nof\\ndoshas\\nfrom\\nsite\\nof\\nmanifestation\\nto\\nthe\\nsite\\nof\\nelimination\\nI,\\ne\\nkosta.\\nAnd\\nit\\nalso\\nhelps\\nto\\nloosne\\ndosha\\nand\\ndushya\\nbonding.\\nEx:\\nMaha\\ntiktaka\\ngrhita.\\nThis\\nghrita\\nhas\\ntikta\\nrasa,\\nmadhura\\nvipaka,\\nushna\\nvirya\\ndravya.\\nAnd\\nhas\\nproperties\\nlike\\nrakta\\nshodaka,\\nkandugna,\\nkustagna.\\nVirechana\\nwith\\ntrivith\\nlehya\\n:\\nas\\nit\\ndoes\\nsukha\\nvirechana\\nand\\nremoves\\nvyadhi\\nfrom\\nmula.\\nThe\\ndo's\\nand\\ndon't\\ninclude\\n1.\\nIntake\\nof\\nlight\\nand\\nsmall\\nquantity\\nof\\nfood.\\n2.\\nAvoid\\njung\\nfoods\\nand\\nwhich\\nare\\nheavy\\nto\\ndigest.\\n3.\\nIntake\\nof\\nhot\\nwater\\nonly.\\n4.\\nAvoid\\nday\\nsleep\\nand\\nsound\\nsleep\\nin\\nnight.\\n5.\\nAvoid\\ncurd\\nin\\nfood.\\n6.\\nHv\\nbalanced\\ndiet\\nand\\nnutritious\\nfood\\n7.\\nHv\\ndaily\\nmild\\nexcercise.\\nQ.\\nI\\nhave\\nrecuurent\\nproductive\\ncough,\\nrunning\\nnose\\nand\\ngeneralised\\nbody\\nache.\\nWhat\\nis\\nmy\\nailment?\\nWhat\\nis\\nthe\\nsolution?\\nA.\\nThe\\nsymptoms\\nyou've\\ndescribed,\\nsuch\\nas\\nrecurrent\\nproductive\\ncough,\\nrunning\\nnose\\ngeneralised\\nbody\\nache,\\ncan\\nbe\\nanalyzed\\nthrough\\nthe\\nlens\\nof\\nAyurveda\\nto\\npredict\\na\\npotential\\nproblem\\nor\\ndisease.\\nAyurveda\\nidentifies\\nimbalances\\nin\\nthe\\nkapha\\nand\\nVata\\ndoshas\\nas\\nkey\\nfactors\\nin\\nvarious\\nhealth\\nissues.\\nQ.\\nHow\\nvata\\nand\\nkapha\\ndoshas\\nare\\ninvolved?\\nA.\\nInvolvement\\nof\\napana\\nvata\\nis\\nmentioned\\nin\\nthe\\nmanifestation\\nof\\nkasa.\\nVata\\ngets\\nvitiated\\nby\\navarana\\nof\\nkapha.\\nApana\\nvata\\nthus\\nobstructed\\nfrom\\nmoving\\ndownwards,\\nattains\\npratiloma\\ngati\\nand\\nreaches\\nrasa\\nsthana,\\ncausing\\ndiscomfort\\nin\\nchest\\nregion.\\nHridya\\nbeing\\nthe\\ncommon\\nmula\\nsthana\\nfor\\nboth\\nrasavaha\\nand\\npranavaha\\nstrotas,\\nVata\\nand\\nkapha\\ndoshas:\\na)\\nrecurrent\\nproductive\\ncough\\n:\\nAs\\nkapha\\ndoes\\navarana\\nto\\nthe\\napana\\nvata\\nthis\\nlakshana\\nis\\nseen\\nb)\\nrunning\\nnose\\nor\\npeenasa\\n:\\nVitiation\\nof\\npranavaayu\\ndue\\nto\\nkapha\\navarana\\nwill\\ncause\\npenasa.\\nc)\\nHeaviness\\nor\\ngovrava\\n:\", metadata={'source': '/content/RAKSHA/RAKSHA dataset V1.pdf', 'page': 1}), Document(page_content=\"The\\nfeeling\\nof\\nheaviness\\nin\\nthe\\nbody\\n(Gourav)\\nis\\na\\nKapha-related\\nsymptom.\\nImbalanced\\nKapha\\ncan\\nmake\\nyou\\nfeel\\nsluggish\\nand\\nweighed\\ndown.\\nBased\\non\\nthese\\nsymptoms\\nand\\ntheir\\nassociation\\nwith\\ndosha\\nimbalances,\\nyour\\ncondition\\ncould\\nbe\\nrelated\\nto\\nan\\nKaphaja\\nkasa\\nor\\nbronchitis\\n,\\nwhich\\npredominantly\\ninvolves\\nimbalances\\nof\\nmainly\\nVata\\nand\\nKapha\\ndoshas.\\nQ:\\nis\\nit\\nkaphaja\\nkasa\\nonly\\nbecause\\nof\\nVata\\ndosha\\nand\\nKapha\\nDosha.\\nA:\\nno\\nin\\nayurveda\\nit\\nis\\nmentioned\\nany\\ndisease\\nmentioned\\nin\\nAyurveda\\nit\\ninvolves\\nall\\nthe\\nthree\\ndoshas\\nbut\\nbased\\non\\nthe\\npercentage\\nof\\ninvolvement\\nit\\nhas\\nbeen\\nmentioned\\nthe\\ninvolvement\\nof\\ndosha.\\nIt\\nmeans\\nkaphaja\\nkasa\\nhave\\nall\\nthe\\nthree\\ndosha\\nbut\\nbased\\non\\nmajority\\nit\\nhv\\nvata\\nand\\nkapha\\ndosha.\\nQ.Which\\nare\\nthe\\ndoshas\\ninvolved\\nand\\nwhich\\nsystem\\nin\\ninvolved\\nin\\nkaphaja\\nkasa\\nA:\\nThe\\nprominent\\nDosha\\ninvolved\\nin\\nkaphaja\\nkasa\\nis\\nVata\\nand\\nKapha\\ndoshas.\\nThe\\nsystem\\nor\\nthe\\nsrothas\\ninvolved\\nin\\nis\\nRasavaha\\nsrothas\\nand\\nwhich\\ncan\\nbe\\nsaid\\nas\\nplasma\\norigin\\nand\\npranavaha\\nsrothas\\nas\\nrespiratory\\nsystem\\nfor\\neasy\\nunderstanding.\\nQ:\\nwhat\\nis\\nsolution\\nfor\\nthe\\ndisease\\nkaphaja\\nkasa\\nin\\nAyurveda\\nA:\\nprinciples\\nof\\nAyurveda\\nline\\nof\\ntreatment\\ninvolves\\nShodana\\ntherapy\\nmainly\\ncalled\\nas\\npanchakarma\\ntreatment\\nand\\nshamana\\nline\\nof\\ntreatment\\nor\\npalliative\\nof\\nmaintenance\\ntreatment\\nand\\ndiet\\nregime\\nincluding\\ndos\\nand\\ndonts.\\nQ:\\nCan\\nyou\\nelaborate\\nthe\\npanchakarma\\nand\\npalliative\\ntreatment\\ninvolved\\nin\\nkaphaja\\nkasa\\n.\\nA:\\nthe\\nimportant\\npanchakarma\\ndone\\nin\\nmost\\nof\\nthe\\nkaphaka\\nkasa\\npatients\\nare\\nverechana\\n(\\npurgative)\\ntreatment\\nfallowed\\nby\\nNasya\\ntreatment\\nwith\\nvarious\\nmedications.\\nThe\\npalliative\\nor\\nthe\\nshamana\\ntreatment\\nis\\ndone\\nbefore\\npanchakarma\\nas\\npreprocedure\\nor\\nto\\nprepare\\npatient\\nfor\\npanchakarma.\\nThose\\nare\\nNidana\\nparivarjana\\nAmapachana:\\nlanghana\\n(\\nfasting),\\ndeepana\\n(\\nstimulation\\nof\\nAgni\\ni.e\\ndigestive\\nfire)\\nas\\ninternal\\nmedication\\nand\\nSwedana\\n(\\ndry\\nand\\nhot\\napplication)\\nas\\nexternal\\napplication.\\nVamana\\nkarma\\n:\\nIt\\nremoves\\nthe\\navarana\\nof\\nvata\\nby\\nkapha\\nEx:\\nkantakari\\ngritha\\nNasya\\nkarma\\n:\\nit\\nis\\nhelpful\\nbecause\\nof\\nsthana\\nsamshraya\\nis\\nin\\nurdwajatrugata.\\nThe\\ndo's\\nand\\ndon't\\ninclude\\n1.\\nIntake\\nof\\nlight\\nand\\nsmall\\nquantity\\nof\\nfood.\\n2.\\nAvoid\\ncold\\nexposure\\nand\\njung\\nfoods\\nand\\nwhich\\nare\\nheavy\\nto\\ndigest.\\n3.\\nIntake\\nof\\nhot\\nwater\\nonly.\\n4.\\nAvoid\\nday\\nsleep\\nand\\nsound\\nsleep\\nin\\nnight.\\n5.\\nAvoid\\ncurd\\nin\\nfood.\", metadata={'source': '/content/RAKSHA/RAKSHA dataset V1.pdf', 'page': 2}), Document(page_content=\"6.\\nHv\\nbalanced\\ndiet\\nand\\nnutritious\\nfood\\n7.\\nHv\\ndaily\\nmild\\nexcercise.\\nQ:\\nI\\nhave\\ndropping\\nof\\nleft\\neye\\nlid,\\neye\\nbrow,\\nmuscle\\nweakness,\\nsalivation\\nfrom\\nleft\\nside\\nof\\nmouth\\n,\\nnumbness\\nof\\nleft\\nside\\nof\\nface.what\\nis\\nmy\\naliment?\\nWhat\\nis\\nthe\\nsolution?\\nA:\\nthe\\nsymptoms\\nyou\\nhave\\ndescribed\\ncan\\nbe\\nanalysed\\nas\\nimbalance\\nof\\nvata\\nand\\nkapha.\\nVata\\ndosha\\nAll\\nthe\\nmovements\\nare\\ndone\\nby\\nligament\\nand\\ntendons,\\nwhen\\nthe\\nligament\\nand\\ntendons\\ndedication\\ntakes\\nplace\\n,\\nthe\\nflaccidity\\nof\\nthe\\nmuscle\\ndoesn't\\nallow\\nus\\nto\\ndo\\nfacial\\nmovements\\nproperly.\\nDropping\\nof\\neye\\nlid\\nand\\neye\\nbrow--\\ndue\\nto\\nincreased\\nvata\\nflaccidity\\nof\\nthe\\nocular\\nmuscles\\ntakes\\nplace\\nhence\\nnot\\nable\\nto\\nlift\\nthe\\neye\\nlid\\ncompletely.\\nExcessive\\nsalavation--\\nflaccid\\nmuscle\\nof\\nthe\\nmouth\\nunable\\nus\\nto\\nclose\\nthe\\nmouth\\ncompletely,\\nhence\\nexcessive\\nsalavation\\noccurs.\\nKapha\\ndosha\\nNumbness--\\ndue\\nto\\nkapha\\ndusti\\nin\\nthe\\nhead\\nregion\\nthere\\nwill\\nbe\\nnumbness.\\nBased\\non\\nthese\\nsymptoms\\nand\\ntheir\\nassociation\\nwith\\nthe\\ndosha\\nimbalance\\nyour\\ncondition\\nis\\nco\\nrelated\\nto\\nArdita.\\nWhich\\nare\\nthe\\ndoshas\\ninvolved\\nand\\nwhich\\nsystem\\nin\\ninvolved\\nin\\nArdita?\\nA:\\nThe\\nprominent\\nDosha\\ninvolved\\nin\\nArdita\\nis\\nVata\\nand\\nKapha\\ndosha.\\nThe\\nsystem\\nor\\nthe\\nsrothas\\ninvolved\\nin\\nArdita\\nis\\nRasavaha\\nsrothas,\\nraktavaha\\n,\\nmamsavaha\\nand\\npranavaha.\\nQ:\\nwhat\\nis\\nsolution\\nfor\\nthe\\ndisease\\nArdita\\nin\\nAyurveda\\nA:\\nprinciples\\nof\\nAyurveda\\nline\\nof\\ntreatment\\ninvolves\\nShodana\\ntherapy\\nmainly\\ncalled\\nas\\npanchakarma\\ntreatment\\nand\\nshamana\\nline\\nof\\ntreatment\\nor\\npalliative\\nof\\nmaintenance\\ntreatment\\nand\\ndiet\\nregime\\nincluding\\ndos\\nand\\ndonts.\\nQ:\\nCan\\nyou\\nelaborate\\nthe\\npanchakarma\\nand\\npalliative\\ntreatment\\ninvolved\\nin\\nArdita?\\nA:\\nthe\\nimportant\\npanchakarma\\ndone\\nin\\nmost\\nof\\nthe\\nArdita\\npatients\\nare\\nnasya(\\nnasal\\ninstallation\\nof\\nthe\\nmedicine)treatment\\nfallowed\\nby\\nTarpana\\ntreatment\\n(\\nnourishing\\nthe\\neyes)\\nwith\\njeevantyadi\\nghruta.\\nMoordha\\ntaila(\\nholding\\noil\\non\\nhead)\\nprepanchakarma\\nprocedure\\nare\\nAmapachana:\\nlanghana\\n(\\nfasting),\\ndeepana\\n(\\nstimulation\\nof\\nAgni\\ni.e\\ndigestive\\nfire)\\nas\\ninternal\\nmedication\\nand\\nSwedana\\n(\\ndry\\nand\\nhot\\napplication)\\nas\\nexternal\\napplication.\\nThe\\ndo's\\nand\\ndon't\\ninclude\\n1.\\nIntake\\nof\\nlight\\nand\\nsmall\\nquantity\\nof\\nfood.\\n2.\\nAvoid\\ncold\\nexposure\\nand\\njung\\nfoods\\nand\\nwhich\\nare\\nheavy\\nto\\ndigest.\\n3.\\nIntake\\nof\\nhot\\nwater\\nonly.\", metadata={'source': '/content/RAKSHA/RAKSHA dataset V1.pdf', 'page': 3}), Document(page_content=\"4.\\nAvoid\\nday\\nsleep\\nand\\nsound\\nsleep\\nin\\nnight.\\n5.\\nAvoid\\ncurd\\nin\\nfood.\\n6.\\nHv\\nbalanced\\ndiet\\nand\\nnutritious\\nfood\\n7.\\nHv\\ndaily\\nmild\\nexcercise.\\nQ.\\nI\\nam\\nhaving\\nstomach\\nache\\non\\n&\\noff\\nsince\\na\\nmonth,\\nimproper\\npassage\\nof\\nstools,\\nheavyness\\nall\\nover\\nbody\\n,\\nvomiting\\nafter\\nhaving\\nfood\\nsometimes,\\nconstipation\\nwith\\nbloody\\nstools\\n.\\nWhat\\nis\\nmy\\nailment?\\nWhat\\nis\\nthe\\nsolution?\\nA.\\nThe\\nsymptoms\\nyou've\\ndescribed,\\nsuch\\nas\\nstomach\\nache,\\nfeeling\\nconstipated\\non\\nand\\noff\\n,heaviness\\nof\\nbody\\n,\\nvomiting\\ncan\\nbe\\nanalyzed\\nthrough\\nthe\\nlens\\nof\\nAyurveda\\nto\\npredict\\na\\npotential\\nproblem\\nor\\ndisease.\\nAyurveda\\nidentifies\\nimbalances\\nin\\nthe\\nVata,\\nPitta,\\nand\\nKapha\\ndoshas\\nas\\nkey\\nfactors\\nin\\nvarious\\nhealth\\nissues.\\nVata\\nDosha:\\nBody\\nAche:\\nBody\\nache\\nis\\noften\\nassociated\\nwith\\naggravated\\nVata\\ndosha.\\nWhen\\nVata\\ndosha\\nis\\nimbalanced,\\nit\\ncan\\nlead\\nto\\nbodyache\\n.\\nWhen\\nPitta\\nis\\naggravated,\\nit\\ncan\\ncause\\nsour\\nand\\nbitter\\nbelching,\\nburning\\nsensation,\\ndrava\\nmal\\nassociation\\nwith\\nkapha\\nleading\\nto\\nkapha\\npresence\\nin\\nmala.\\nThirst:\\nExperiencing\\nincreased\\nthirst\\n(Trushna)\\ncan\\nbe\\nlinked\\nto\\npitta\\ndosha\\nas\\nit\\ndisrupts\\nthe\\nbody's\\nnatural\\nbalance.\\nKapha\\nDosha:\\nWhen\\nkapha\\ndosha\\nincreases\\nkleda\\npresent\\nin\\namashaya\\nincreases\\nwhich\\nleads\\nto\\nama\\nformation\\nleading\\nheaviness\\nin\\nbody\\nand\\nloss\\nof\\nappetite.\\nHeaviness:\\nThe\\nfeeling\\nof\\nheaviness\\nin\\nthe\\nbody\\n(Gourav)\\nis\\na\\nKapha-related\\nsymptom.\\nImbalanced\\nKapha\\ncan\\nmake\\nyou\\nfeel\\nsluggish\\nand\\nweighed\\ndown.\\nLethargy:\\nKapha\\nimbalances\\ncan\\nlead\\nto\\nlethargy\\n(Aalasya),\\nmaking\\nyou\\nfeel\\ntired\\nand\\nlacking\\nin\\nenergy.\\nBased\\non\\nthese\\nsymptoms\\nand\\ntheir\\nassociation\\nwith\\ndosha\\nimbalances,\\nyour\\ncondition\\ncould\\nbe\\nrelated\\nto\\nan\\ngrahani\\nor\\nIrritable\\nbowel\\nsyndrome,\\nwhich\\npredominantly\\ninvolves\\nimbalances\\nof\\nall\\ntridoshas\\nin\\nassociation\\nwith\\nama\\ndosha.\\nQ:\\nHow\\nto\\ninterpret\\ndoshas\\nand\\nsystem\\ninvolvement\\nin\\nGrahani.\\nA:\\nBy\\nname\\nit\\nself\\nit\\nsuggest\\nthe\\nword\\ngrahani\\nsuggests\\nthe\\nsystem\\nassociated\\nto\\ndisgestive\\nsystem\\n.\\nUndigested\\nfood\\nor\\nundigested\\nmetabolic\\nproduct\\nwhich\\nis\\nform\\nof\\nimbalance\\nof\\nkapha\\nalong\\nwith\\npitta\\nand\\nvata\\ndosha.\", metadata={'source': '/content/RAKSHA/RAKSHA dataset V1.pdf', 'page': 4}), Document(page_content=\"Q.\\nWhich\\nare\\nthe\\ndoshas\\ninvolved\\nand\\nwhich\\nsystem\\nin\\ninvolved\\nin\\nGrahani.\\nA:\\nThe\\nprominent\\nDosha\\ninvolved\\nin\\nGrahani\\nis\\nall\\ndoshas.\\nThe\\nsystem\\nor\\nthe\\nsrothas\\ninvolved\\nin\\ngrahani\\nis\\nAnnavaha\\nand\\nRasavaha\\nsrothas\\nwhich\\ncan\\nbe\\nsaid\\nas\\nour\\ndigestive\\nsystem\\nand\\nplasma\\norigin\\nfor\\neasy\\nunderstanding.\\nQ:\\nwhat\\nis\\nsolution\\nfor\\nthe\\ndisease\\nGrahani\\nin\\nAyurveda\\nA:\\nprinciples\\nof\\nAyurveda\\nline\\nof\\ntreatment\\ninvolves\\nShodana\\nand\\nshamana\\nboth\\nthe\\ntherapy\\nmainly\\ncalled\\nas\\npanchakarma\\ntreatment\\nand\\nshamana\\nline\\nof\\ntreatment\\nor\\npalliative\\nof\\nmaintenance\\ntreatment\\nand\\ndiet\\nregime\\nincluding\\ndos\\nand\\ndonts.\\nQ:\\nCan\\nyou\\nelaborate\\nthe\\npanchakarma\\nand\\npalliative\\ntreatment\\ninvolved\\nin\\nGrahani.\\nA:\\nthe\\nimportant\\npanchakarma\\ndone\\nin\\nmost\\nof\\nthe\\nGrahani\\npatients\\nare\\nverechana\\n(\\npurgative)\\ntreatment.\\nThe\\npalliative\\nor\\nthe\\nshamana\\ntreatment\\nis\\ndone\\nbefore\\npanchakarma\\nas\\npreprocedure\\nor\\nto\\nprepare\\npatient\\nfor\\npanchakarma.\\nThose\\nare\\nAmapachana:\\nlanghana\\n(\\nfasting),\\ndeepana\\n(\\nstimulation\\nof\\nAgni\\ni.e\\ndigestive\\nfire)\\nas\\ninternal\\nmedication\\nsuch\\nas\\n1.\\nChitrakadi\\ngutika\\n2.\\nSamshamani\\nvati\\n3.\\nTrayushnadi\\ngrita\\nThe\\ndo's\\nand\\ndon't\\ninclude\\n1.\\nIntake\\nof\\nlight\\nand\\nsmall\\nquantity\\nof\\nfood.\\n2.\\nAvoid\\ncold\\nexposure\\nand\\njung\\nfoods\\nand\\nwhich\\nare\\nheavy\\nto\\ndigest.\\n3.\\nIntake\\nof\\nhot\\nwater\\nonly.\\n4.\\nAvoid\\nday\\nsleep\\nand\\nsound\\nsleep\\nin\\nnight.\\n5.\\nAvoid\\ncurd\\nin\\nfood.\\n6.\\nHv\\nbalanced\\ndiet\\nand\\nnutritious\\nfood\\n7.\\nHv\\ndaily\\nmild\\nexcercise.\", metadata={'source': '/content/RAKSHA/RAKSHA dataset V1.pdf', 'page': 5})]\n"
          ]
        }
      ]
    },
    {
      "cell_type": "code",
      "source": [
        "text_splitter = RecursiveCharacterTextSplitter(chunk_size=2000, chunk_overlap=200)\n",
        "texts = text_splitter.split_documents(documents)"
      ],
      "metadata": {
        "id": "KDeKxC3xmTkY"
      },
      "execution_count": null,
      "outputs": []
    },
    {
      "cell_type": "code",
      "source": [
        "len(texts)"
      ],
      "metadata": {
        "colab": {
          "base_uri": "https://localhost:8080/"
        },
        "id": "_JSP0iPwmbDm",
        "outputId": "2792bae1-23e8-420d-86ac-65f6437cd5b0"
      },
      "execution_count": null,
      "outputs": [
        {
          "output_type": "execute_result",
          "data": {
            "text/plain": [
              "10"
            ]
          },
          "metadata": {},
          "execution_count": 9
        }
      ]
    },
    {
      "cell_type": "code",
      "source": [
        "persist_directory = 'db'\n",
        "embedding = OpenAIEmbeddings()\n",
        "\n",
        "vectordb = Chroma.from_documents(documents=texts,\n",
        "                                 embedding=embedding,\n",
        "                                 persist_directory=persist_directory)"
      ],
      "metadata": {
        "id": "7T-gEa2UmcSy"
      },
      "execution_count": null,
      "outputs": []
    },
    {
      "cell_type": "code",
      "source": [
        "vectordb = Chroma(persist_directory=persist_directory,\n",
        "                  embedding_function=embedding)\n",
        "vectordb.persist()"
      ],
      "metadata": {
        "id": "8IZVrfMMmu2Q"
      },
      "execution_count": null,
      "outputs": []
    },
    {
      "cell_type": "code",
      "source": [
        "from langchain.chat_models import ChatOpenAI"
      ],
      "metadata": {
        "id": "Kqoms4XUrpEJ"
      },
      "execution_count": null,
      "outputs": []
    },
    {
      "cell_type": "code",
      "source": [
        "llm = ChatOpenAI(\n",
        "    temperature=0,\n",
        "    model_name='gpt-3.5-turbo'\n",
        ")"
      ],
      "metadata": {
        "id": "MIeWbigrr0Aj"
      },
      "execution_count": null,
      "outputs": []
    },
    {
      "cell_type": "code",
      "source": [
        "prompt_template = PromptTemplate(\n",
        "    input_variables=[\"context\"],\n",
        "    template=\"\"\"Identify possible disease and suggest a few Ayurvedic treatments.:\n",
        "    The patient experiences the following symptoms: {context}\n",
        "    Analyze potential imbalances in Doshas, Dhatus, and Srotas, explaining how each symptom relates to these imbalances:\n",
        "    Doshas (Vata, Pitta, Kapha)\n",
        "    Dhatus (Rasa, Rakta, Mamsa, Meda, Asthi, Majja, Shukra)\n",
        "    Srotas (Pranavaha, Udakavaha, Annavaha, Rasavaha, Raktavaha, Mamsavaha, Medovaha, Asthivaha, Majjavaha, Sukravaha, Mutravaha, Purishavaha, Swedavaha)\"\"\"\n",
        ")"
      ],
      "metadata": {
        "id": "ZYFhzGQCYpGU"
      },
      "execution_count": null,
      "outputs": []
    },
    {
      "cell_type": "code",
      "source": [
        "prompt_template.format(context = \"scaly patchy raised lesions over below elbow and below knee joints with dryness and itching\")"
      ],
      "metadata": {
        "id": "iTcA90TzY4wx"
      },
      "execution_count": null,
      "outputs": []
    },
    {
      "cell_type": "code",
      "source": [
        "qa_chain = RetrievalQA.from_chain_type(llm=llm,\n",
        "                                  chain_type=\"stuff\",\n",
        "                                  retriever=vector_db.as_retriever(),\n",
        "                                  chain_type_kwargs = {\"prompt\" : prompt_template,},\n",
        "                                  return_source_documents=True)"
      ],
      "metadata": {
        "id": "a0JGMSI7r4UK"
      },
      "execution_count": null,
      "outputs": []
    },
    {
      "cell_type": "code",
      "source": [
        "import pprint"
      ],
      "metadata": {
        "id": "9waR3RehzwWW"
      },
      "execution_count": null,
      "outputs": []
    },
    {
      "cell_type": "code",
      "source": [
        "pprint.pprint(qa_chain(\"I have scaly patchy raised lesions over below elbow and below knee joints with dryness and itching. What is the solution?predict the problem based on dhatus doshas and srotas, breaking down the symptoms mentioned\"))"
      ],
      "metadata": {
        "colab": {
          "base_uri": "https://localhost:8080/",
          "height": 435
        },
        "id": "dHDps0FNz9se",
        "outputId": "6c6863fb-4381-4cb4-efc5-f96ee6fe0216"
      },
      "execution_count": null,
      "outputs": [
        {
          "output_type": "error",
          "ename": "RateLimitError",
          "evalue": "ignored",
          "traceback": [
            "\u001b[0;31m---------------------------------------------------------------------------\u001b[0m",
            "\u001b[0;31mRateLimitError\u001b[0m                            Traceback (most recent call last)",
            "\u001b[0;32m<ipython-input-17-e45dbf18712d>\u001b[0m in \u001b[0;36m<cell line: 1>\u001b[0;34m()\u001b[0m\n\u001b[0;32m----> 1\u001b[0;31m \u001b[0mpprint\u001b[0m\u001b[0;34m.\u001b[0m\u001b[0mpprint\u001b[0m\u001b[0;34m(\u001b[0m\u001b[0mqa_chain\u001b[0m\u001b[0;34m(\u001b[0m\u001b[0;34m\"I have scaly patchy raised lesions over below elbow and below knee joints with dryness and itching. What is the solution?predict the problem based on dhatus doshas and srotas, breaking down the symptoms mentioned\"\u001b[0m\u001b[0;34m)\u001b[0m\u001b[0;34m)\u001b[0m\u001b[0;34m\u001b[0m\u001b[0;34m\u001b[0m\u001b[0m\n\u001b[0m",
            "\u001b[0;32m/usr/local/lib/python3.10/dist-packages/langchain/chains/base.py\u001b[0m in \u001b[0;36m__call__\u001b[0;34m(self, inputs, return_only_outputs, callbacks, tags, metadata, run_name, include_run_info)\u001b[0m\n\u001b[1;32m    310\u001b[0m         \u001b[0;32mexcept\u001b[0m \u001b[0mBaseException\u001b[0m \u001b[0;32mas\u001b[0m \u001b[0me\u001b[0m\u001b[0;34m:\u001b[0m\u001b[0;34m\u001b[0m\u001b[0;34m\u001b[0m\u001b[0m\n\u001b[1;32m    311\u001b[0m             \u001b[0mrun_manager\u001b[0m\u001b[0;34m.\u001b[0m\u001b[0mon_chain_error\u001b[0m\u001b[0;34m(\u001b[0m\u001b[0me\u001b[0m\u001b[0;34m)\u001b[0m\u001b[0;34m\u001b[0m\u001b[0;34m\u001b[0m\u001b[0m\n\u001b[0;32m--> 312\u001b[0;31m             \u001b[0;32mraise\u001b[0m \u001b[0me\u001b[0m\u001b[0;34m\u001b[0m\u001b[0;34m\u001b[0m\u001b[0m\n\u001b[0m\u001b[1;32m    313\u001b[0m         \u001b[0mrun_manager\u001b[0m\u001b[0;34m.\u001b[0m\u001b[0mon_chain_end\u001b[0m\u001b[0;34m(\u001b[0m\u001b[0moutputs\u001b[0m\u001b[0;34m)\u001b[0m\u001b[0;34m\u001b[0m\u001b[0;34m\u001b[0m\u001b[0m\n\u001b[1;32m    314\u001b[0m         final_outputs: Dict[str, Any] = self.prep_outputs(\n",
            "\u001b[0;32m/usr/local/lib/python3.10/dist-packages/langchain/chains/base.py\u001b[0m in \u001b[0;36m__call__\u001b[0;34m(self, inputs, return_only_outputs, callbacks, tags, metadata, run_name, include_run_info)\u001b[0m\n\u001b[1;32m    304\u001b[0m         \u001b[0;32mtry\u001b[0m\u001b[0;34m:\u001b[0m\u001b[0;34m\u001b[0m\u001b[0;34m\u001b[0m\u001b[0m\n\u001b[1;32m    305\u001b[0m             outputs = (\n\u001b[0;32m--> 306\u001b[0;31m                 \u001b[0mself\u001b[0m\u001b[0;34m.\u001b[0m\u001b[0m_call\u001b[0m\u001b[0;34m(\u001b[0m\u001b[0minputs\u001b[0m\u001b[0;34m,\u001b[0m \u001b[0mrun_manager\u001b[0m\u001b[0;34m=\u001b[0m\u001b[0mrun_manager\u001b[0m\u001b[0;34m)\u001b[0m\u001b[0;34m\u001b[0m\u001b[0;34m\u001b[0m\u001b[0m\n\u001b[0m\u001b[1;32m    307\u001b[0m                 \u001b[0;32mif\u001b[0m \u001b[0mnew_arg_supported\u001b[0m\u001b[0;34m\u001b[0m\u001b[0;34m\u001b[0m\u001b[0m\n\u001b[1;32m    308\u001b[0m                 \u001b[0;32melse\u001b[0m \u001b[0mself\u001b[0m\u001b[0;34m.\u001b[0m\u001b[0m_call\u001b[0m\u001b[0;34m(\u001b[0m\u001b[0minputs\u001b[0m\u001b[0;34m)\u001b[0m\u001b[0;34m\u001b[0m\u001b[0;34m\u001b[0m\u001b[0m\n",
            "\u001b[0;32m/usr/local/lib/python3.10/dist-packages/langchain/chains/retrieval_qa/base.py\u001b[0m in \u001b[0;36m_call\u001b[0;34m(self, inputs, run_manager)\u001b[0m\n\u001b[1;32m    139\u001b[0m         )\n\u001b[1;32m    140\u001b[0m         \u001b[0;32mif\u001b[0m \u001b[0maccepts_run_manager\u001b[0m\u001b[0;34m:\u001b[0m\u001b[0;34m\u001b[0m\u001b[0;34m\u001b[0m\u001b[0m\n\u001b[0;32m--> 141\u001b[0;31m             \u001b[0mdocs\u001b[0m \u001b[0;34m=\u001b[0m \u001b[0mself\u001b[0m\u001b[0;34m.\u001b[0m\u001b[0m_get_docs\u001b[0m\u001b[0;34m(\u001b[0m\u001b[0mquestion\u001b[0m\u001b[0;34m,\u001b[0m \u001b[0mrun_manager\u001b[0m\u001b[0;34m=\u001b[0m\u001b[0m_run_manager\u001b[0m\u001b[0;34m)\u001b[0m\u001b[0;34m\u001b[0m\u001b[0;34m\u001b[0m\u001b[0m\n\u001b[0m\u001b[1;32m    142\u001b[0m         \u001b[0;32melse\u001b[0m\u001b[0;34m:\u001b[0m\u001b[0;34m\u001b[0m\u001b[0;34m\u001b[0m\u001b[0m\n\u001b[1;32m    143\u001b[0m             \u001b[0mdocs\u001b[0m \u001b[0;34m=\u001b[0m \u001b[0mself\u001b[0m\u001b[0;34m.\u001b[0m\u001b[0m_get_docs\u001b[0m\u001b[0;34m(\u001b[0m\u001b[0mquestion\u001b[0m\u001b[0;34m)\u001b[0m  \u001b[0;31m# type: ignore[call-arg]\u001b[0m\u001b[0;34m\u001b[0m\u001b[0;34m\u001b[0m\u001b[0m\n",
            "\u001b[0;32m/usr/local/lib/python3.10/dist-packages/langchain/chains/retrieval_qa/base.py\u001b[0m in \u001b[0;36m_get_docs\u001b[0;34m(self, question, run_manager)\u001b[0m\n\u001b[1;32m    219\u001b[0m     ) -> List[Document]:\n\u001b[1;32m    220\u001b[0m         \u001b[0;34m\"\"\"Get docs.\"\"\"\u001b[0m\u001b[0;34m\u001b[0m\u001b[0;34m\u001b[0m\u001b[0m\n\u001b[0;32m--> 221\u001b[0;31m         return self.retriever.get_relevant_documents(\n\u001b[0m\u001b[1;32m    222\u001b[0m             \u001b[0mquestion\u001b[0m\u001b[0;34m,\u001b[0m \u001b[0mcallbacks\u001b[0m\u001b[0;34m=\u001b[0m\u001b[0mrun_manager\u001b[0m\u001b[0;34m.\u001b[0m\u001b[0mget_child\u001b[0m\u001b[0;34m(\u001b[0m\u001b[0;34m)\u001b[0m\u001b[0;34m\u001b[0m\u001b[0;34m\u001b[0m\u001b[0m\n\u001b[1;32m    223\u001b[0m         )\n",
            "\u001b[0;32m/usr/local/lib/python3.10/dist-packages/langchain_core/retrievers.py\u001b[0m in \u001b[0;36mget_relevant_documents\u001b[0;34m(self, query, callbacks, tags, metadata, run_name, **kwargs)\u001b[0m\n\u001b[1;32m    209\u001b[0m         \u001b[0;32mexcept\u001b[0m \u001b[0mException\u001b[0m \u001b[0;32mas\u001b[0m \u001b[0me\u001b[0m\u001b[0;34m:\u001b[0m\u001b[0;34m\u001b[0m\u001b[0;34m\u001b[0m\u001b[0m\n\u001b[1;32m    210\u001b[0m             \u001b[0mrun_manager\u001b[0m\u001b[0;34m.\u001b[0m\u001b[0mon_retriever_error\u001b[0m\u001b[0;34m(\u001b[0m\u001b[0me\u001b[0m\u001b[0;34m)\u001b[0m\u001b[0;34m\u001b[0m\u001b[0;34m\u001b[0m\u001b[0m\n\u001b[0;32m--> 211\u001b[0;31m             \u001b[0;32mraise\u001b[0m \u001b[0me\u001b[0m\u001b[0;34m\u001b[0m\u001b[0;34m\u001b[0m\u001b[0m\n\u001b[0m\u001b[1;32m    212\u001b[0m         \u001b[0;32melse\u001b[0m\u001b[0;34m:\u001b[0m\u001b[0;34m\u001b[0m\u001b[0;34m\u001b[0m\u001b[0m\n\u001b[1;32m    213\u001b[0m             run_manager.on_retriever_end(\n",
            "\u001b[0;32m/usr/local/lib/python3.10/dist-packages/langchain_core/retrievers.py\u001b[0m in \u001b[0;36mget_relevant_documents\u001b[0;34m(self, query, callbacks, tags, metadata, run_name, **kwargs)\u001b[0m\n\u001b[1;32m    202\u001b[0m             \u001b[0m_kwargs\u001b[0m \u001b[0;34m=\u001b[0m \u001b[0mkwargs\u001b[0m \u001b[0;32mif\u001b[0m \u001b[0mself\u001b[0m\u001b[0;34m.\u001b[0m\u001b[0m_expects_other_args\u001b[0m \u001b[0;32melse\u001b[0m \u001b[0;34m{\u001b[0m\u001b[0;34m}\u001b[0m\u001b[0;34m\u001b[0m\u001b[0;34m\u001b[0m\u001b[0m\n\u001b[1;32m    203\u001b[0m             \u001b[0;32mif\u001b[0m \u001b[0mself\u001b[0m\u001b[0;34m.\u001b[0m\u001b[0m_new_arg_supported\u001b[0m\u001b[0;34m:\u001b[0m\u001b[0;34m\u001b[0m\u001b[0;34m\u001b[0m\u001b[0m\n\u001b[0;32m--> 204\u001b[0;31m                 result = self._get_relevant_documents(\n\u001b[0m\u001b[1;32m    205\u001b[0m                     \u001b[0mquery\u001b[0m\u001b[0;34m,\u001b[0m \u001b[0mrun_manager\u001b[0m\u001b[0;34m=\u001b[0m\u001b[0mrun_manager\u001b[0m\u001b[0;34m,\u001b[0m \u001b[0;34m**\u001b[0m\u001b[0m_kwargs\u001b[0m\u001b[0;34m\u001b[0m\u001b[0;34m\u001b[0m\u001b[0m\n\u001b[1;32m    206\u001b[0m                 )\n",
            "\u001b[0;32m/usr/local/lib/python3.10/dist-packages/langchain_core/vectorstores.py\u001b[0m in \u001b[0;36m_get_relevant_documents\u001b[0;34m(self, query, run_manager)\u001b[0m\n\u001b[1;32m    654\u001b[0m     ) -> List[Document]:\n\u001b[1;32m    655\u001b[0m         \u001b[0;32mif\u001b[0m \u001b[0mself\u001b[0m\u001b[0;34m.\u001b[0m\u001b[0msearch_type\u001b[0m \u001b[0;34m==\u001b[0m \u001b[0;34m\"similarity\"\u001b[0m\u001b[0;34m:\u001b[0m\u001b[0;34m\u001b[0m\u001b[0;34m\u001b[0m\u001b[0m\n\u001b[0;32m--> 656\u001b[0;31m             \u001b[0mdocs\u001b[0m \u001b[0;34m=\u001b[0m \u001b[0mself\u001b[0m\u001b[0;34m.\u001b[0m\u001b[0mvectorstore\u001b[0m\u001b[0;34m.\u001b[0m\u001b[0msimilarity_search\u001b[0m\u001b[0;34m(\u001b[0m\u001b[0mquery\u001b[0m\u001b[0;34m,\u001b[0m \u001b[0;34m**\u001b[0m\u001b[0mself\u001b[0m\u001b[0;34m.\u001b[0m\u001b[0msearch_kwargs\u001b[0m\u001b[0;34m)\u001b[0m\u001b[0;34m\u001b[0m\u001b[0;34m\u001b[0m\u001b[0m\n\u001b[0m\u001b[1;32m    657\u001b[0m         \u001b[0;32melif\u001b[0m \u001b[0mself\u001b[0m\u001b[0;34m.\u001b[0m\u001b[0msearch_type\u001b[0m \u001b[0;34m==\u001b[0m \u001b[0;34m\"similarity_score_threshold\"\u001b[0m\u001b[0;34m:\u001b[0m\u001b[0;34m\u001b[0m\u001b[0;34m\u001b[0m\u001b[0m\n\u001b[1;32m    658\u001b[0m             docs_and_similarities = (\n",
            "\u001b[0;32m/usr/local/lib/python3.10/dist-packages/langchain_community/vectorstores/chroma.py\u001b[0m in \u001b[0;36msimilarity_search\u001b[0;34m(self, query, k, filter, **kwargs)\u001b[0m\n\u001b[1;32m    346\u001b[0m             \u001b[0mList\u001b[0m\u001b[0;34m[\u001b[0m\u001b[0mDocument\u001b[0m\u001b[0;34m]\u001b[0m\u001b[0;34m:\u001b[0m \u001b[0mList\u001b[0m \u001b[0mof\u001b[0m \u001b[0mdocuments\u001b[0m \u001b[0mmost\u001b[0m \u001b[0msimilar\u001b[0m \u001b[0mto\u001b[0m \u001b[0mthe\u001b[0m \u001b[0mquery\u001b[0m \u001b[0mtext\u001b[0m\u001b[0;34m.\u001b[0m\u001b[0;34m\u001b[0m\u001b[0;34m\u001b[0m\u001b[0m\n\u001b[1;32m    347\u001b[0m         \"\"\"\n\u001b[0;32m--> 348\u001b[0;31m         \u001b[0mdocs_and_scores\u001b[0m \u001b[0;34m=\u001b[0m \u001b[0mself\u001b[0m\u001b[0;34m.\u001b[0m\u001b[0msimilarity_search_with_score\u001b[0m\u001b[0;34m(\u001b[0m\u001b[0mquery\u001b[0m\u001b[0;34m,\u001b[0m \u001b[0mk\u001b[0m\u001b[0;34m,\u001b[0m \u001b[0mfilter\u001b[0m\u001b[0;34m=\u001b[0m\u001b[0mfilter\u001b[0m\u001b[0;34m)\u001b[0m\u001b[0;34m\u001b[0m\u001b[0;34m\u001b[0m\u001b[0m\n\u001b[0m\u001b[1;32m    349\u001b[0m         \u001b[0;32mreturn\u001b[0m \u001b[0;34m[\u001b[0m\u001b[0mdoc\u001b[0m \u001b[0;32mfor\u001b[0m \u001b[0mdoc\u001b[0m\u001b[0;34m,\u001b[0m \u001b[0m_\u001b[0m \u001b[0;32min\u001b[0m \u001b[0mdocs_and_scores\u001b[0m\u001b[0;34m]\u001b[0m\u001b[0;34m\u001b[0m\u001b[0;34m\u001b[0m\u001b[0m\n\u001b[1;32m    350\u001b[0m \u001b[0;34m\u001b[0m\u001b[0m\n",
            "\u001b[0;32m/usr/local/lib/python3.10/dist-packages/langchain_community/vectorstores/chroma.py\u001b[0m in \u001b[0;36msimilarity_search_with_score\u001b[0;34m(self, query, k, filter, where_document, **kwargs)\u001b[0m\n\u001b[1;32m    430\u001b[0m             )\n\u001b[1;32m    431\u001b[0m         \u001b[0;32melse\u001b[0m\u001b[0;34m:\u001b[0m\u001b[0;34m\u001b[0m\u001b[0;34m\u001b[0m\u001b[0m\n\u001b[0;32m--> 432\u001b[0;31m             \u001b[0mquery_embedding\u001b[0m \u001b[0;34m=\u001b[0m \u001b[0mself\u001b[0m\u001b[0;34m.\u001b[0m\u001b[0m_embedding_function\u001b[0m\u001b[0;34m.\u001b[0m\u001b[0membed_query\u001b[0m\u001b[0;34m(\u001b[0m\u001b[0mquery\u001b[0m\u001b[0;34m)\u001b[0m\u001b[0;34m\u001b[0m\u001b[0;34m\u001b[0m\u001b[0m\n\u001b[0m\u001b[1;32m    433\u001b[0m             results = self.__query_collection(\n\u001b[1;32m    434\u001b[0m                 \u001b[0mquery_embeddings\u001b[0m\u001b[0;34m=\u001b[0m\u001b[0;34m[\u001b[0m\u001b[0mquery_embedding\u001b[0m\u001b[0;34m]\u001b[0m\u001b[0;34m,\u001b[0m\u001b[0;34m\u001b[0m\u001b[0;34m\u001b[0m\u001b[0m\n",
            "\u001b[0;32m/usr/local/lib/python3.10/dist-packages/langchain_community/embeddings/openai.py\u001b[0m in \u001b[0;36membed_query\u001b[0;34m(self, text)\u001b[0m\n\u001b[1;32m    694\u001b[0m             \u001b[0mEmbedding\u001b[0m \u001b[0;32mfor\u001b[0m \u001b[0mthe\u001b[0m \u001b[0mtext\u001b[0m\u001b[0;34m.\u001b[0m\u001b[0;34m\u001b[0m\u001b[0;34m\u001b[0m\u001b[0m\n\u001b[1;32m    695\u001b[0m         \"\"\"\n\u001b[0;32m--> 696\u001b[0;31m         \u001b[0;32mreturn\u001b[0m \u001b[0mself\u001b[0m\u001b[0;34m.\u001b[0m\u001b[0membed_documents\u001b[0m\u001b[0;34m(\u001b[0m\u001b[0;34m[\u001b[0m\u001b[0mtext\u001b[0m\u001b[0;34m]\u001b[0m\u001b[0;34m)\u001b[0m\u001b[0;34m[\u001b[0m\u001b[0;36m0\u001b[0m\u001b[0;34m]\u001b[0m\u001b[0;34m\u001b[0m\u001b[0;34m\u001b[0m\u001b[0m\n\u001b[0m\u001b[1;32m    697\u001b[0m \u001b[0;34m\u001b[0m\u001b[0m\n\u001b[1;32m    698\u001b[0m     \u001b[0;32masync\u001b[0m \u001b[0;32mdef\u001b[0m \u001b[0maembed_query\u001b[0m\u001b[0;34m(\u001b[0m\u001b[0mself\u001b[0m\u001b[0;34m,\u001b[0m \u001b[0mtext\u001b[0m\u001b[0;34m:\u001b[0m \u001b[0mstr\u001b[0m\u001b[0;34m)\u001b[0m \u001b[0;34m->\u001b[0m \u001b[0mList\u001b[0m\u001b[0;34m[\u001b[0m\u001b[0mfloat\u001b[0m\u001b[0;34m]\u001b[0m\u001b[0;34m:\u001b[0m\u001b[0;34m\u001b[0m\u001b[0;34m\u001b[0m\u001b[0m\n",
            "\u001b[0;32m/usr/local/lib/python3.10/dist-packages/langchain_community/embeddings/openai.py\u001b[0m in \u001b[0;36membed_documents\u001b[0;34m(self, texts, chunk_size)\u001b[0m\n\u001b[1;32m    665\u001b[0m         \u001b[0;31m#       than the maximum context and use length-safe embedding function.\u001b[0m\u001b[0;34m\u001b[0m\u001b[0;34m\u001b[0m\u001b[0m\n\u001b[1;32m    666\u001b[0m         \u001b[0mengine\u001b[0m \u001b[0;34m=\u001b[0m \u001b[0mcast\u001b[0m\u001b[0;34m(\u001b[0m\u001b[0mstr\u001b[0m\u001b[0;34m,\u001b[0m \u001b[0mself\u001b[0m\u001b[0;34m.\u001b[0m\u001b[0mdeployment\u001b[0m\u001b[0;34m)\u001b[0m\u001b[0;34m\u001b[0m\u001b[0;34m\u001b[0m\u001b[0m\n\u001b[0;32m--> 667\u001b[0;31m         \u001b[0;32mreturn\u001b[0m \u001b[0mself\u001b[0m\u001b[0;34m.\u001b[0m\u001b[0m_get_len_safe_embeddings\u001b[0m\u001b[0;34m(\u001b[0m\u001b[0mtexts\u001b[0m\u001b[0;34m,\u001b[0m \u001b[0mengine\u001b[0m\u001b[0;34m=\u001b[0m\u001b[0mengine\u001b[0m\u001b[0;34m)\u001b[0m\u001b[0;34m\u001b[0m\u001b[0;34m\u001b[0m\u001b[0m\n\u001b[0m\u001b[1;32m    668\u001b[0m \u001b[0;34m\u001b[0m\u001b[0m\n\u001b[1;32m    669\u001b[0m     async def aembed_documents(\n",
            "\u001b[0;32m/usr/local/lib/python3.10/dist-packages/langchain_community/embeddings/openai.py\u001b[0m in \u001b[0;36m_get_len_safe_embeddings\u001b[0;34m(self, texts, engine, chunk_size)\u001b[0m\n\u001b[1;32m    491\u001b[0m         \u001b[0mbatched_embeddings\u001b[0m\u001b[0;34m:\u001b[0m \u001b[0mList\u001b[0m\u001b[0;34m[\u001b[0m\u001b[0mList\u001b[0m\u001b[0;34m[\u001b[0m\u001b[0mfloat\u001b[0m\u001b[0;34m]\u001b[0m\u001b[0;34m]\u001b[0m \u001b[0;34m=\u001b[0m \u001b[0;34m[\u001b[0m\u001b[0;34m]\u001b[0m\u001b[0;34m\u001b[0m\u001b[0;34m\u001b[0m\u001b[0m\n\u001b[1;32m    492\u001b[0m         \u001b[0;32mfor\u001b[0m \u001b[0mi\u001b[0m \u001b[0;32min\u001b[0m \u001b[0m_iter\u001b[0m\u001b[0;34m:\u001b[0m\u001b[0;34m\u001b[0m\u001b[0;34m\u001b[0m\u001b[0m\n\u001b[0;32m--> 493\u001b[0;31m             response = embed_with_retry(\n\u001b[0m\u001b[1;32m    494\u001b[0m                 \u001b[0mself\u001b[0m\u001b[0;34m,\u001b[0m\u001b[0;34m\u001b[0m\u001b[0;34m\u001b[0m\u001b[0m\n\u001b[1;32m    495\u001b[0m                 \u001b[0minput\u001b[0m\u001b[0;34m=\u001b[0m\u001b[0mtokens\u001b[0m\u001b[0;34m[\u001b[0m\u001b[0mi\u001b[0m \u001b[0;34m:\u001b[0m \u001b[0mi\u001b[0m \u001b[0;34m+\u001b[0m \u001b[0m_chunk_size\u001b[0m\u001b[0;34m]\u001b[0m\u001b[0;34m,\u001b[0m\u001b[0;34m\u001b[0m\u001b[0;34m\u001b[0m\u001b[0m\n",
            "\u001b[0;32m/usr/local/lib/python3.10/dist-packages/langchain_community/embeddings/openai.py\u001b[0m in \u001b[0;36membed_with_retry\u001b[0;34m(embeddings, **kwargs)\u001b[0m\n\u001b[1;32m    113\u001b[0m     \u001b[0;34m\"\"\"Use tenacity to retry the embedding call.\"\"\"\u001b[0m\u001b[0;34m\u001b[0m\u001b[0;34m\u001b[0m\u001b[0m\n\u001b[1;32m    114\u001b[0m     \u001b[0;32mif\u001b[0m \u001b[0m_is_openai_v1\u001b[0m\u001b[0;34m(\u001b[0m\u001b[0;34m)\u001b[0m\u001b[0;34m:\u001b[0m\u001b[0;34m\u001b[0m\u001b[0;34m\u001b[0m\u001b[0m\n\u001b[0;32m--> 115\u001b[0;31m         \u001b[0;32mreturn\u001b[0m \u001b[0membeddings\u001b[0m\u001b[0;34m.\u001b[0m\u001b[0mclient\u001b[0m\u001b[0;34m.\u001b[0m\u001b[0mcreate\u001b[0m\u001b[0;34m(\u001b[0m\u001b[0;34m**\u001b[0m\u001b[0mkwargs\u001b[0m\u001b[0;34m)\u001b[0m\u001b[0;34m\u001b[0m\u001b[0;34m\u001b[0m\u001b[0m\n\u001b[0m\u001b[1;32m    116\u001b[0m     \u001b[0mretry_decorator\u001b[0m \u001b[0;34m=\u001b[0m \u001b[0m_create_retry_decorator\u001b[0m\u001b[0;34m(\u001b[0m\u001b[0membeddings\u001b[0m\u001b[0;34m)\u001b[0m\u001b[0;34m\u001b[0m\u001b[0;34m\u001b[0m\u001b[0m\n\u001b[1;32m    117\u001b[0m \u001b[0;34m\u001b[0m\u001b[0m\n",
            "\u001b[0;32m/usr/local/lib/python3.10/dist-packages/openai/resources/embeddings.py\u001b[0m in \u001b[0;36mcreate\u001b[0;34m(self, input, model, encoding_format, user, extra_headers, extra_query, extra_body, timeout)\u001b[0m\n\u001b[1;32m    104\u001b[0m             \u001b[0;32mreturn\u001b[0m \u001b[0mobj\u001b[0m\u001b[0;34m\u001b[0m\u001b[0;34m\u001b[0m\u001b[0m\n\u001b[1;32m    105\u001b[0m \u001b[0;34m\u001b[0m\u001b[0m\n\u001b[0;32m--> 106\u001b[0;31m         return self._post(\n\u001b[0m\u001b[1;32m    107\u001b[0m             \u001b[0;34m\"/embeddings\"\u001b[0m\u001b[0;34m,\u001b[0m\u001b[0;34m\u001b[0m\u001b[0;34m\u001b[0m\u001b[0m\n\u001b[1;32m    108\u001b[0m             \u001b[0mbody\u001b[0m\u001b[0;34m=\u001b[0m\u001b[0mmaybe_transform\u001b[0m\u001b[0;34m(\u001b[0m\u001b[0mparams\u001b[0m\u001b[0;34m,\u001b[0m \u001b[0membedding_create_params\u001b[0m\u001b[0;34m.\u001b[0m\u001b[0mEmbeddingCreateParams\u001b[0m\u001b[0;34m)\u001b[0m\u001b[0;34m,\u001b[0m\u001b[0;34m\u001b[0m\u001b[0;34m\u001b[0m\u001b[0m\n",
            "\u001b[0;32m/usr/local/lib/python3.10/dist-packages/openai/_base_client.py\u001b[0m in \u001b[0;36mpost\u001b[0;34m(self, path, cast_to, body, options, files, stream, stream_cls)\u001b[0m\n\u001b[1;32m   1086\u001b[0m             \u001b[0mmethod\u001b[0m\u001b[0;34m=\u001b[0m\u001b[0;34m\"post\"\u001b[0m\u001b[0;34m,\u001b[0m \u001b[0murl\u001b[0m\u001b[0;34m=\u001b[0m\u001b[0mpath\u001b[0m\u001b[0;34m,\u001b[0m \u001b[0mjson_data\u001b[0m\u001b[0;34m=\u001b[0m\u001b[0mbody\u001b[0m\u001b[0;34m,\u001b[0m \u001b[0mfiles\u001b[0m\u001b[0;34m=\u001b[0m\u001b[0mto_httpx_files\u001b[0m\u001b[0;34m(\u001b[0m\u001b[0mfiles\u001b[0m\u001b[0;34m)\u001b[0m\u001b[0;34m,\u001b[0m \u001b[0;34m**\u001b[0m\u001b[0moptions\u001b[0m\u001b[0;34m\u001b[0m\u001b[0;34m\u001b[0m\u001b[0m\n\u001b[1;32m   1087\u001b[0m         )\n\u001b[0;32m-> 1088\u001b[0;31m         \u001b[0;32mreturn\u001b[0m \u001b[0mcast\u001b[0m\u001b[0;34m(\u001b[0m\u001b[0mResponseT\u001b[0m\u001b[0;34m,\u001b[0m \u001b[0mself\u001b[0m\u001b[0;34m.\u001b[0m\u001b[0mrequest\u001b[0m\u001b[0;34m(\u001b[0m\u001b[0mcast_to\u001b[0m\u001b[0;34m,\u001b[0m \u001b[0mopts\u001b[0m\u001b[0;34m,\u001b[0m \u001b[0mstream\u001b[0m\u001b[0;34m=\u001b[0m\u001b[0mstream\u001b[0m\u001b[0;34m,\u001b[0m \u001b[0mstream_cls\u001b[0m\u001b[0;34m=\u001b[0m\u001b[0mstream_cls\u001b[0m\u001b[0;34m)\u001b[0m\u001b[0;34m)\u001b[0m\u001b[0;34m\u001b[0m\u001b[0;34m\u001b[0m\u001b[0m\n\u001b[0m\u001b[1;32m   1089\u001b[0m \u001b[0;34m\u001b[0m\u001b[0m\n\u001b[1;32m   1090\u001b[0m     def patch(\n",
            "\u001b[0;32m/usr/local/lib/python3.10/dist-packages/openai/_base_client.py\u001b[0m in \u001b[0;36mrequest\u001b[0;34m(self, cast_to, options, remaining_retries, stream, stream_cls)\u001b[0m\n\u001b[1;32m    851\u001b[0m         \u001b[0mstream_cls\u001b[0m\u001b[0;34m:\u001b[0m \u001b[0mtype\u001b[0m\u001b[0;34m[\u001b[0m\u001b[0m_StreamT\u001b[0m\u001b[0;34m]\u001b[0m \u001b[0;34m|\u001b[0m \u001b[0;32mNone\u001b[0m \u001b[0;34m=\u001b[0m \u001b[0;32mNone\u001b[0m\u001b[0;34m,\u001b[0m\u001b[0;34m\u001b[0m\u001b[0;34m\u001b[0m\u001b[0m\n\u001b[1;32m    852\u001b[0m     ) -> ResponseT | _StreamT:\n\u001b[0;32m--> 853\u001b[0;31m         return self._request(\n\u001b[0m\u001b[1;32m    854\u001b[0m             \u001b[0mcast_to\u001b[0m\u001b[0;34m=\u001b[0m\u001b[0mcast_to\u001b[0m\u001b[0;34m,\u001b[0m\u001b[0;34m\u001b[0m\u001b[0;34m\u001b[0m\u001b[0m\n\u001b[1;32m    855\u001b[0m             \u001b[0moptions\u001b[0m\u001b[0;34m=\u001b[0m\u001b[0moptions\u001b[0m\u001b[0;34m,\u001b[0m\u001b[0;34m\u001b[0m\u001b[0;34m\u001b[0m\u001b[0m\n",
            "\u001b[0;32m/usr/local/lib/python3.10/dist-packages/openai/_base_client.py\u001b[0m in \u001b[0;36m_request\u001b[0;34m(self, cast_to, options, remaining_retries, stream, stream_cls)\u001b[0m\n\u001b[1;32m    914\u001b[0m             \u001b[0;32mif\u001b[0m \u001b[0mretries\u001b[0m \u001b[0;34m>\u001b[0m \u001b[0;36m0\u001b[0m \u001b[0;32mand\u001b[0m \u001b[0mself\u001b[0m\u001b[0;34m.\u001b[0m\u001b[0m_should_retry\u001b[0m\u001b[0;34m(\u001b[0m\u001b[0merr\u001b[0m\u001b[0;34m.\u001b[0m\u001b[0mresponse\u001b[0m\u001b[0;34m)\u001b[0m\u001b[0;34m:\u001b[0m\u001b[0;34m\u001b[0m\u001b[0;34m\u001b[0m\u001b[0m\n\u001b[1;32m    915\u001b[0m                 \u001b[0merr\u001b[0m\u001b[0;34m.\u001b[0m\u001b[0mresponse\u001b[0m\u001b[0;34m.\u001b[0m\u001b[0mclose\u001b[0m\u001b[0;34m(\u001b[0m\u001b[0;34m)\u001b[0m\u001b[0;34m\u001b[0m\u001b[0;34m\u001b[0m\u001b[0m\n\u001b[0;32m--> 916\u001b[0;31m                 return self._retry_request(\n\u001b[0m\u001b[1;32m    917\u001b[0m                     \u001b[0moptions\u001b[0m\u001b[0;34m,\u001b[0m\u001b[0;34m\u001b[0m\u001b[0;34m\u001b[0m\u001b[0m\n\u001b[1;32m    918\u001b[0m                     \u001b[0mcast_to\u001b[0m\u001b[0;34m,\u001b[0m\u001b[0;34m\u001b[0m\u001b[0;34m\u001b[0m\u001b[0m\n",
            "\u001b[0;32m/usr/local/lib/python3.10/dist-packages/openai/_base_client.py\u001b[0m in \u001b[0;36m_retry_request\u001b[0;34m(self, options, cast_to, remaining_retries, response_headers, stream, stream_cls)\u001b[0m\n\u001b[1;32m    956\u001b[0m         \u001b[0mtime\u001b[0m\u001b[0;34m.\u001b[0m\u001b[0msleep\u001b[0m\u001b[0;34m(\u001b[0m\u001b[0mtimeout\u001b[0m\u001b[0;34m)\u001b[0m\u001b[0;34m\u001b[0m\u001b[0;34m\u001b[0m\u001b[0m\n\u001b[1;32m    957\u001b[0m \u001b[0;34m\u001b[0m\u001b[0m\n\u001b[0;32m--> 958\u001b[0;31m         return self._request(\n\u001b[0m\u001b[1;32m    959\u001b[0m             \u001b[0moptions\u001b[0m\u001b[0;34m=\u001b[0m\u001b[0moptions\u001b[0m\u001b[0;34m,\u001b[0m\u001b[0;34m\u001b[0m\u001b[0;34m\u001b[0m\u001b[0m\n\u001b[1;32m    960\u001b[0m             \u001b[0mcast_to\u001b[0m\u001b[0;34m=\u001b[0m\u001b[0mcast_to\u001b[0m\u001b[0;34m,\u001b[0m\u001b[0;34m\u001b[0m\u001b[0;34m\u001b[0m\u001b[0m\n",
            "\u001b[0;32m/usr/local/lib/python3.10/dist-packages/openai/_base_client.py\u001b[0m in \u001b[0;36m_request\u001b[0;34m(self, cast_to, options, remaining_retries, stream, stream_cls)\u001b[0m\n\u001b[1;32m    914\u001b[0m             \u001b[0;32mif\u001b[0m \u001b[0mretries\u001b[0m \u001b[0;34m>\u001b[0m \u001b[0;36m0\u001b[0m \u001b[0;32mand\u001b[0m \u001b[0mself\u001b[0m\u001b[0;34m.\u001b[0m\u001b[0m_should_retry\u001b[0m\u001b[0;34m(\u001b[0m\u001b[0merr\u001b[0m\u001b[0;34m.\u001b[0m\u001b[0mresponse\u001b[0m\u001b[0;34m)\u001b[0m\u001b[0;34m:\u001b[0m\u001b[0;34m\u001b[0m\u001b[0;34m\u001b[0m\u001b[0m\n\u001b[1;32m    915\u001b[0m                 \u001b[0merr\u001b[0m\u001b[0;34m.\u001b[0m\u001b[0mresponse\u001b[0m\u001b[0;34m.\u001b[0m\u001b[0mclose\u001b[0m\u001b[0;34m(\u001b[0m\u001b[0;34m)\u001b[0m\u001b[0;34m\u001b[0m\u001b[0;34m\u001b[0m\u001b[0m\n\u001b[0;32m--> 916\u001b[0;31m                 return self._retry_request(\n\u001b[0m\u001b[1;32m    917\u001b[0m                     \u001b[0moptions\u001b[0m\u001b[0;34m,\u001b[0m\u001b[0;34m\u001b[0m\u001b[0;34m\u001b[0m\u001b[0m\n\u001b[1;32m    918\u001b[0m                     \u001b[0mcast_to\u001b[0m\u001b[0;34m,\u001b[0m\u001b[0;34m\u001b[0m\u001b[0;34m\u001b[0m\u001b[0m\n",
            "\u001b[0;32m/usr/local/lib/python3.10/dist-packages/openai/_base_client.py\u001b[0m in \u001b[0;36m_retry_request\u001b[0;34m(self, options, cast_to, remaining_retries, response_headers, stream, stream_cls)\u001b[0m\n\u001b[1;32m    956\u001b[0m         \u001b[0mtime\u001b[0m\u001b[0;34m.\u001b[0m\u001b[0msleep\u001b[0m\u001b[0;34m(\u001b[0m\u001b[0mtimeout\u001b[0m\u001b[0;34m)\u001b[0m\u001b[0;34m\u001b[0m\u001b[0;34m\u001b[0m\u001b[0m\n\u001b[1;32m    957\u001b[0m \u001b[0;34m\u001b[0m\u001b[0m\n\u001b[0;32m--> 958\u001b[0;31m         return self._request(\n\u001b[0m\u001b[1;32m    959\u001b[0m             \u001b[0moptions\u001b[0m\u001b[0;34m=\u001b[0m\u001b[0moptions\u001b[0m\u001b[0;34m,\u001b[0m\u001b[0;34m\u001b[0m\u001b[0;34m\u001b[0m\u001b[0m\n\u001b[1;32m    960\u001b[0m             \u001b[0mcast_to\u001b[0m\u001b[0;34m=\u001b[0m\u001b[0mcast_to\u001b[0m\u001b[0;34m,\u001b[0m\u001b[0;34m\u001b[0m\u001b[0;34m\u001b[0m\u001b[0m\n",
            "\u001b[0;32m/usr/local/lib/python3.10/dist-packages/openai/_base_client.py\u001b[0m in \u001b[0;36m_request\u001b[0;34m(self, cast_to, options, remaining_retries, stream, stream_cls)\u001b[0m\n\u001b[1;32m    928\u001b[0m                 \u001b[0merr\u001b[0m\u001b[0;34m.\u001b[0m\u001b[0mresponse\u001b[0m\u001b[0;34m.\u001b[0m\u001b[0mread\u001b[0m\u001b[0;34m(\u001b[0m\u001b[0;34m)\u001b[0m\u001b[0;34m\u001b[0m\u001b[0;34m\u001b[0m\u001b[0m\n\u001b[1;32m    929\u001b[0m \u001b[0;34m\u001b[0m\u001b[0m\n\u001b[0;32m--> 930\u001b[0;31m             \u001b[0;32mraise\u001b[0m \u001b[0mself\u001b[0m\u001b[0;34m.\u001b[0m\u001b[0m_make_status_error_from_response\u001b[0m\u001b[0;34m(\u001b[0m\u001b[0merr\u001b[0m\u001b[0;34m.\u001b[0m\u001b[0mresponse\u001b[0m\u001b[0;34m)\u001b[0m \u001b[0;32mfrom\u001b[0m \u001b[0;32mNone\u001b[0m\u001b[0;34m\u001b[0m\u001b[0;34m\u001b[0m\u001b[0m\n\u001b[0m\u001b[1;32m    931\u001b[0m \u001b[0;34m\u001b[0m\u001b[0m\n\u001b[1;32m    932\u001b[0m         return self._process_response(\n",
            "\u001b[0;31mRateLimitError\u001b[0m: Error code: 429 - {'error': {'message': 'You exceeded your current quota, please check your plan and billing details. For more information on this error, read the docs: https://platform.openai.com/docs/guides/error-codes/api-errors.', 'type': 'insufficient_quota', 'param': None, 'code': 'insufficient_quota'}}"
          ]
        }
      ]
    },
    {
      "cell_type": "code",
      "source": [],
      "metadata": {
        "id": "luauITrw21-q"
      },
      "execution_count": null,
      "outputs": []
    }
  ]
}